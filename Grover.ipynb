{
  "cells": [
    {
      "cell_type": "markdown",
      "metadata": {
        "id": "cd5_QbFYF2I5"
      },
      "source": [
        "# Grover's Search Algorithm Code"
      ]
    },
    {
      "cell_type": "code",
      "source": [
        "# Install amazon-braket-sdk\n",
        "!pip install amazon-braket-sdk\n"
      ],
      "metadata": {
        "collapsed": true,
        "id": "twOaNJBjHkai"
      },
      "execution_count": null,
      "outputs": []
    },
    {
      "cell_type": "code",
      "execution_count": 3,
      "metadata": {
        "ExecuteTime": {
          "end_time": "2023-08-29T21:30:08.639837Z",
          "start_time": "2023-08-29T21:30:08.162009Z"
        },
        "id": "P2x0lkUNF2JG"
      },
      "outputs": [],
      "source": [
        "# Use Braket SDK Cost Tracking to estimate the cost to run this example\n",
        "from braket.tracking import Tracker\n",
        "t = Tracker().start()"
      ]
    },
    {
      "cell_type": "markdown",
      "metadata": {
        "id": "U5OPljbwF2JW"
      },
      "source": [
        "## Libraries and Parameters <a name=\"setup\"></a>"
      ]
    },
    {
      "cell_type": "code",
      "execution_count": 4,
      "metadata": {
        "ExecuteTime": {
          "end_time": "2023-08-29T21:30:12.927295Z",
          "start_time": "2023-08-29T21:30:10.318951Z"
        },
        "id": "fzRbXPAoF2JW"
      },
      "outputs": [],
      "source": [
        "# Import Braket libraries\n",
        "from braket.circuits import circuit, Circuit\n",
        "from braket.aws import AwsQuantumTask, AwsDevice\n",
        "from braket.devices import Devices, LocalSimulator\n",
        "import matplotlib.pyplot as plt\n",
        "# magic word for producing visualizations in notebook\n",
        "%matplotlib inline\n",
        "import numpy as np"
      ]
    },
    {
      "cell_type": "markdown",
      "metadata": {
        "id": "X4jrVZkWF2JX"
      },
      "source": [
        "## Helper Functions <a name=\"wrappers\"></a>"
      ]
    },
    {
      "cell_type": "markdown",
      "metadata": {
        "id": "P6IQEORtF2JX"
      },
      "source": [
        "We develop a set of useful helper functions that we will explain in detail below. Specifically, we provide simple building blocks for the four core modules of Grover's search algorithm: 1) initialization, 2) oracle, 3) amplification, and 4) measurement. This approach allows us to solve the problem in a clean and modular way."
      ]
    },
    {
      "cell_type": "code",
      "execution_count": 5,
      "metadata": {
        "ExecuteTime": {
          "end_time": "2023-08-29T21:30:12.952542Z",
          "start_time": "2023-08-29T21:30:12.927636Z"
        },
        "id": "IbdTt-tRF2JX"
      },
      "outputs": [],
      "source": [
        "# Helper function to build C-C-Z gate\n",
        "@circuit.subroutine(register=True)\n",
        "def ccz(targets=[0, 1, 2]):\n",
        "    \"\"\"\n",
        "    implementation of three-qubit gate CCZ\n",
        "    \"\"\"\n",
        "    # define three-qubit CCZ gate\n",
        "    ccz_gate = np.array([[1.0, 0.0, 0.0, 0.0, 0.0, 0.0, 0.0, 0.0],\n",
        "                         [0.0, 1.0, 0.0, 0.0, 0.0, 0.0, 0.0, 0.0],\n",
        "                         [0.0, 0.0, 1.0, 0.0, 0.0, 0.0, 0.0, 0.0],\n",
        "                         [0.0, 0.0, 0.0, 1.0, 0.0, 0.0, 0.0, 0.0],\n",
        "                         [0.0, 0.0, 0.0, 0.0, 1.0, 0.0, 0.0, 0.0],\n",
        "                         [0.0, 0.0, 0.0, 0.0, 0.0, 1.0, 0.0, 0.0],\n",
        "                         [0.0, 0.0, 0.0, 0.0, 0.0, 0.0, 1.0, 0.0],\n",
        "                         [0.0, 0.0, 0.0, 0.0, 0.0, 0.0, 0.0, -1.0]],\n",
        "                       dtype=complex)\n",
        "\n",
        "    # instantiate circuit object\n",
        "    circ = Circuit()\n",
        "\n",
        "    # add CCZ gate\n",
        "    circ.unitary(matrix=ccz_gate, targets=targets)\n",
        "\n",
        "    return circ\n",
        "\n",
        "\n",
        "# All possible items and their corresponding oracles\n",
        "# define oracle dictionary using this CCZ gate\n",
        "oracle_sim = {\"000\": Circuit().x([0,1,2]).ccz(targets=[0, 1, 2]).x([0,1,2]),\n",
        "              \"001\": Circuit().x([0,1]).ccz(targets=[0, 1, 2]).x([0,1]),\n",
        "              \"010\": Circuit().x([0,2]).ccz(targets=[0, 1, 2]).x([0,2]),\n",
        "              \"011\": Circuit().x([0]).ccz(targets=[0, 1, 2]).x([0]),\n",
        "              \"100\": Circuit().x([1,2]).ccz(targets=[0, 1, 2]).x([1,2]),\n",
        "              \"101\": Circuit().x([1]).ccz(targets=[0, 1, 2]).x([1]),\n",
        "              \"110\": Circuit().x([2]).ccz(targets=[0, 1, 2]).x([2]),\n",
        "              \"111\": Circuit().ccz(targets=[0, 1, 2])\n",
        "          }\n",
        "\n",
        "\n",
        "# helper function for initialization\n",
        "def initialize(n_qubits=3):\n",
        "    \"\"\"\n",
        "    function to apply hadamard to all qubits\n",
        "    \"\"\"\n",
        "    # Initialize with superposition\n",
        "    circ = Circuit();\n",
        "    circ.h(np.arange(n_qubits))\n",
        "    #print(circ)\n",
        "    return circ\n",
        "\n",
        "\n",
        "# helper function for phase oracle\n",
        "def oracle(item):\n",
        "    \"\"\"\n",
        "    function to apply oracle for given target item\n",
        "    \"\"\"\n",
        "    # instantiate circuit object\n",
        "    circ = Circuit()\n",
        "\n",
        "    # add oracle\n",
        "    circ.add_circuit(oracle_sim[item])\n",
        "\n",
        "    return circ\n",
        "\n",
        "\n",
        "# helper function for amplification\n",
        "def amplify(n_qubits=3):\n",
        "    \"\"\"\n",
        "    function for amplitude amplification\n",
        "    \"\"\"\n",
        "    # instantiate circuit object\n",
        "    circ = Circuit()\n",
        "\n",
        "    # Amplification\n",
        "    circ.h(np.arange(n_qubits))\n",
        "    circ.add_circuit(oracle_sim['000'])\n",
        "    circ.h(np.arange(n_qubits))\n",
        "\n",
        "    return circ\n",
        "\n",
        "\n",
        "# helper function for grover algorithm\n",
        "def grover(item, n_qubits=3, n_reps=1):\n",
        "    \"\"\"\n",
        "    function to put together individual modules of Grover algorithm\n",
        "    \"\"\"\n",
        "    # initialize\n",
        "    grover_circ = initialize()\n",
        "    # oracle and amplify\n",
        "    for ii in range(n_reps):\n",
        "        # get oracle\n",
        "        or_circ = oracle(item)\n",
        "        grover_circ.add(or_circ)\n",
        "        # amplify\n",
        "        amplification = amplify()\n",
        "        grover_circ.add(amplification)\n",
        "\n",
        "    return grover_circ\n",
        ""
      ]
    },
    {
      "cell_type": "code",
      "execution_count": 6,
      "metadata": {
        "ExecuteTime": {
          "end_time": "2023-08-29T21:30:12.963570Z",
          "start_time": "2023-08-29T21:30:12.960880Z"
        },
        "id": "Lq5BpVejF2JY"
      },
      "outputs": [],
      "source": [
        "# Function to run quantum task, check the status thereof, and collect results\n",
        "def get_result(circ):\n",
        "\n",
        "    # get number of qubits\n",
        "    num_qubits = circ.qubit_count\n",
        "\n",
        "    # specify desired results_types\n",
        "    circ.probability()\n",
        "\n",
        "    # submit quantum task: define quantum task (asynchronous)\n",
        "    task = device.run(circ, shots=1000)\n",
        "\n",
        "    # Get ID of submitted quantum task\n",
        "    task_id = task.id\n",
        "#     print('Task ID :', task_id)\n",
        "\n",
        "    # Wait for hybrid job to complete\n",
        "    status_list = []\n",
        "    status = task.state()\n",
        "    status_list += [status]\n",
        "    print('Status:', status)\n",
        "\n",
        "    # Only notify the user when there's a status change\n",
        "    while status != 'COMPLETED':\n",
        "        status = task.state()\n",
        "        if status != status_list[-1]:\n",
        "            print('Status:', status)\n",
        "        status_list += [status]\n",
        "\n",
        "    # get result\n",
        "    result = task.result()\n",
        "\n",
        "    # get metadata\n",
        "    metadata = result.task_metadata\n",
        "\n",
        "    # get output probabilities\n",
        "    probs_values = result.values[0]\n",
        "\n",
        "    # get measurement results\n",
        "    measurement_counts = result.measurement_counts\n",
        "\n",
        "    # print measurement results\n",
        "    print('measurement_counts:', measurement_counts)\n",
        "\n",
        "    # bitstrings\n",
        "    format_bitstring = '{0:0' + str(num_qubits) + 'b}'\n",
        "    bitstring_keys = [format_bitstring.format(ii) for ii in range(2**num_qubits)]\n",
        "\n",
        "    # plot probabalities\n",
        "    plt.bar(bitstring_keys, probs_values);\n",
        "    plt.xlabel('bitstrings');\n",
        "    plt.ylabel('probability');\n",
        "    plt.xticks(rotation=90);\n",
        "\n",
        "    return measurement_counts"
      ]
    },
    {
      "cell_type": "markdown",
      "metadata": {
        "id": "FSLsHwlDF2JZ"
      },
      "source": [
        "## Device: Classical Simulator <a name=\"sim_c\"></a>\n",
        "We demonstrate Grover's algorithm on a classical simulator first.\n",
        "You can choose between a local simulator or an on-demand simulator.\n",
        "In the next section, we will run the same problem on a quantum IonQ device."
      ]
    },
    {
      "cell_type": "code",
      "execution_count": 7,
      "metadata": {
        "ExecuteTime": {
          "end_time": "2023-08-29T21:30:13.054236Z",
          "start_time": "2023-08-29T21:30:12.965829Z"
        },
        "id": "Of4DleaHF2JZ"
      },
      "outputs": [],
      "source": [
        "# Set up the cloud-based simulator\n",
        "# device = AwsDevice(Devices.Amazon.SV1)\n",
        "\n",
        "# set up the local simulator\n",
        "device = LocalSimulator()"
      ]
    },
    {
      "cell_type": "code",
      "execution_count": 8,
      "metadata": {
        "ExecuteTime": {
          "end_time": "2023-08-29T21:30:13.065405Z",
          "start_time": "2023-08-29T21:30:13.061498Z"
        },
        "colab": {
          "base_uri": "https://localhost:8080/"
        },
        "id": "uuLde116F2Jd",
        "outputId": "e9614ca1-d7e7-45f5-ab57-4ad8cfe6c34e"
      },
      "outputs": [
        {
          "output_type": "stream",
          "name": "stdout",
          "text": [
            "Quantum Gates supported by StateVectorSimulator:\n",
            " ['ccnot', 'cnot', 'cphaseshift', 'cphaseshift00', 'cphaseshift01', 'cphaseshift10', 'cswap', 'cv', 'cy', 'cz', 'ecr', 'h', 'i', 'iswap', 'pswap', 'phaseshift', 'rx', 'ry', 'rz', 's', 'si', 'swap', 't', 'ti', 'unitary', 'v', 'vi', 'x', 'xx', 'xy', 'y', 'yy', 'z', 'zz']\n"
          ]
        }
      ],
      "source": [
        "# get device name\n",
        "device_name = device.name\n",
        "# show the properties of the device\n",
        "device_properties = device.properties\n",
        "# show supportedQuantumOperations (supported gates for a device)\n",
        "device_operations = device_properties.dict()['action']['braket.ir.jaqcd.program']['supportedOperations']\n",
        "# Note: This field also exists for other devices like the QPUs\n",
        "print('Quantum Gates supported by {}:\\n {}'.format(device_name, device_operations))"
      ]
    },
    {
      "cell_type": "markdown",
      "metadata": {
        "id": "1OW1KEUaF2Jf"
      },
      "source": [
        "Since the ```CCZ``` gate is not part of the default gate set, we have used the ```unitary``` method to build a custom, doubly-controlled Z gate ```CCZ``` for the phase oracle operator.\n",
        "We will leverage the Amazon Braket `circuit.subroutine` functionality, which allows us to use such a custom-built gate as if it were any other built-in gate.  "
      ]
    },
    {
      "cell_type": "markdown",
      "metadata": {
        "id": "Nw0zc47rF2Jf"
      },
      "source": [
        "Now, we are ready to run our circuit for a few test cases.\n",
        "To recap, the steps are as follows:\n",
        "\n",
        "1. Create a uniform superposition\n",
        "2. Apply the phase oracle corresponding to our target item\n",
        "3. Define the diffusion operator to magnify the amplitude difference created by the oracle\n",
        "4. Collect the measurement counts for our target item"
      ]
    },
    {
      "cell_type": "code",
      "execution_count": 9,
      "metadata": {
        "ExecuteTime": {
          "end_time": "2023-08-29T21:30:13.372676Z",
          "start_time": "2023-08-29T21:30:13.064936Z"
        },
        "colab": {
          "base_uri": "https://localhost:8080/",
          "height": 688
        },
        "id": "xxdRji-AF2Jf",
        "outputId": "32dfd92a-8fc7-4e81-cdf5-804014b5b225"
      },
      "outputs": [
        {
          "output_type": "stream",
          "name": "stdout",
          "text": [
            "T  : │  0  │  1  │  2  │  3  │  4  │  5  │  6  │\n",
            "      ┌───┐ ┌───┐ ┌───┐ ┌───┐ ┌───┐ ┌───┐ ┌───┐ \n",
            "q0 : ─┤ H ├─┤ U ├─┤ H ├─┤ X ├─┤ U ├─┤ X ├─┤ H ├─\n",
            "      └───┘ └─┬─┘ └───┘ └───┘ └─┬─┘ └───┘ └───┘ \n",
            "      ┌───┐ ┌─┴─┐ ┌───┐ ┌───┐ ┌─┴─┐ ┌───┐ ┌───┐ \n",
            "q1 : ─┤ H ├─┤ U ├─┤ H ├─┤ X ├─┤ U ├─┤ X ├─┤ H ├─\n",
            "      └───┘ └─┬─┘ └───┘ └───┘ └─┬─┘ └───┘ └───┘ \n",
            "      ┌───┐ ┌─┴─┐ ┌───┐ ┌───┐ ┌─┴─┐ ┌───┐ ┌───┐ \n",
            "q2 : ─┤ H ├─┤ U ├─┤ H ├─┤ X ├─┤ U ├─┤ X ├─┤ H ├─\n",
            "      └───┘ └───┘ └───┘ └───┘ └───┘ └───┘ └───┘ \n",
            "T  : │  0  │  1  │  2  │  3  │  4  │  5  │  6  │\n",
            "Status: COMPLETED\n",
            "measurement_counts: Counter({'111': 799, '100': 35, '010': 33, '000': 32, '101': 29, '001': 27, '011': 27, '110': 18})\n"
          ]
        },
        {
          "output_type": "display_data",
          "data": {
            "text/plain": [
              "<Figure size 640x480 with 1 Axes>"
            ],
            "image/png": "[encoded data removed]"
          },
          "metadata": {}
        }
      ],
      "source": [
        "# Select item to find. Let's start with '111' for now\n",
        "item = \"111\"\n",
        "\n",
        "# get Grover circuit\n",
        "circ = grover(item)\n",
        "\n",
        "# print circuit\n",
        "print(circ)\n",
        "\n",
        "# Measurement\n",
        "counts = get_result(circ)"
      ]
    },
    {
      "cell_type": "markdown",
      "metadata": {
        "id": "TcQ_WHSFF2Jf"
      },
      "source": [
        "__DISCUSSION__: We observe a strong peak around the target solution given by the `111` bitstring, with all other bitstrings showing far smaller probabilities.\n",
        "Let us try one more item:"
      ]
    },
    {
      "cell_type": "code",
      "execution_count": 10,
      "metadata": {
        "ExecuteTime": {
          "end_time": "2023-08-29T21:30:13.684325Z",
          "start_time": "2023-08-29T21:30:13.370679Z"
        },
        "colab": {
          "base_uri": "https://localhost:8080/",
          "height": 688
        },
        "id": "P9ieOs1RF2Jg",
        "outputId": "103cd3e3-9be3-40e7-e281-5cf8332efc9b"
      },
      "outputs": [
        {
          "output_type": "stream",
          "name": "stdout",
          "text": [
            "T  : │  0  │  1  │  2  │  3  │  4  │  5  │  6  │  7  │  8  │\n",
            "      ┌───┐       ┌───┐ ┌───┐ ┌───┐       ┌───┐ ┌───┐ ┌───┐ \n",
            "q0 : ─┤ H ├───────┤ U ├─┤ H ├─┤ X ├───────┤ U ├─┤ X ├─┤ H ├─\n",
            "      └───┘       └─┬─┘ └───┘ └───┘       └─┬─┘ └───┘ └───┘ \n",
            "      ┌───┐ ┌───┐ ┌─┴─┐ ┌───┐ ┌───┐ ┌───┐ ┌─┴─┐ ┌───┐ ┌───┐ \n",
            "q1 : ─┤ H ├─┤ X ├─┤ U ├─┤ X ├─┤ H ├─┤ X ├─┤ U ├─┤ X ├─┤ H ├─\n",
            "      └───┘ └───┘ └─┬─┘ └───┘ └───┘ └───┘ └─┬─┘ └───┘ └───┘ \n",
            "      ┌───┐ ┌───┐ ┌─┴─┐ ┌───┐ ┌───┐ ┌───┐ ┌─┴─┐ ┌───┐ ┌───┐ \n",
            "q2 : ─┤ H ├─┤ X ├─┤ U ├─┤ X ├─┤ H ├─┤ X ├─┤ U ├─┤ X ├─┤ H ├─\n",
            "      └───┘ └───┘ └───┘ └───┘ └───┘ └───┘ └───┘ └───┘ └───┘ \n",
            "T  : │  0  │  1  │  2  │  3  │  4  │  5  │  6  │  7  │  8  │\n",
            "Status: COMPLETED\n",
            "measurement_counts: Counter({'100': 796, '111': 32, '010': 32, '000': 31, '001': 28, '011': 28, '101': 28, '110': 25})\n"
          ]
        },
        {
          "output_type": "display_data",
          "data": {
            "text/plain": [
              "<Figure size 640x480 with 1 Axes>"
            ],
            "image/png": "[encoded data removed]"
          },
          "metadata": {}
        }
      ],
      "source": [
        "# Select item to find. Let's start with '111' for now\n",
        "item = \"100\"\n",
        "\n",
        "# get Grover circuit\n",
        "circ = grover(item)\n",
        "\n",
        "# print circuit\n",
        "print(circ)\n",
        "\n",
        "# Measurement\n",
        "counts = get_result(circ)"
      ]
    },
    {
      "cell_type": "markdown",
      "metadata": {
        "id": "Bogg4Q5PF2Jg"
      },
      "source": [
        "__DISCUSSION__: By repeating steps 2 (oracle) and 3 (amplification), we can further magnify the amplitude of the target item, thus maximizing the single-shot probability of identifying the right answer. This repetition is demonstrated below."
      ]
    },
    {
      "cell_type": "code",
      "execution_count": 13,
      "metadata": {
        "ExecuteTime": {
          "end_time": "2023-08-29T21:30:13.948582Z",
          "start_time": "2023-08-29T21:30:13.606504Z"
        },
        "colab": {
          "base_uri": "https://localhost:8080/",
          "height": 688
        },
        "id": "dwjGleuJF2Jg",
        "outputId": "c51e1ca2-68ec-4325-8c0f-8880bed71135"
      },
      "outputs": [
        {
          "output_type": "stream",
          "name": "stdout",
          "text": [
            "T  : │  0  │  1  │  2  │  3  │  4  │  5  │  6  │  7  │  8  │  9  │ 10  │ 11  │ 12  │ 13  │ 14  │ 15  │ 16  │\n",
            "      ┌───┐       ┌───┐ ┌───┐ ┌───┐       ┌───┐ ┌───┐ ┌───┐       ┌───┐ ┌───┐ ┌───┐       ┌───┐ ┌───┐ ┌───┐ \n",
            "q0 : ─┤ H ├───────┤ U ├─┤ H ├─┤ X ├───────┤ U ├─┤ X ├─┤ H ├───────┤ U ├─┤ H ├─┤ X ├───────┤ U ├─┤ X ├─┤ H ├─\n",
            "      └───┘       └─┬─┘ └───┘ └───┘       └─┬─┘ └───┘ └───┘       └─┬─┘ └───┘ └───┘       └─┬─┘ └───┘ └───┘ \n",
            "      ┌───┐ ┌───┐ ┌─┴─┐ ┌───┐ ┌───┐ ┌───┐ ┌─┴─┐ ┌───┐ ┌───┐ ┌───┐ ┌─┴─┐ ┌───┐ ┌───┐ ┌───┐ ┌─┴─┐ ┌───┐ ┌───┐ \n",
            "q1 : ─┤ H ├─┤ X ├─┤ U ├─┤ X ├─┤ H ├─┤ X ├─┤ U ├─┤ X ├─┤ H ├─┤ X ├─┤ U ├─┤ X ├─┤ H ├─┤ X ├─┤ U ├─┤ X ├─┤ H ├─\n",
            "      └───┘ └───┘ └─┬─┘ └───┘ └───┘ └───┘ └─┬─┘ └───┘ └───┘ └───┘ └─┬─┘ └───┘ └───┘ └───┘ └─┬─┘ └───┘ └───┘ \n",
            "      ┌───┐ ┌───┐ ┌─┴─┐ ┌───┐ ┌───┐ ┌───┐ ┌─┴─┐ ┌───┐ ┌───┐ ┌───┐ ┌─┴─┐ ┌───┐ ┌───┐ ┌───┐ ┌─┴─┐ ┌───┐ ┌───┐ \n",
            "q2 : ─┤ H ├─┤ X ├─┤ U ├─┤ X ├─┤ H ├─┤ X ├─┤ U ├─┤ X ├─┤ H ├─┤ X ├─┤ U ├─┤ X ├─┤ H ├─┤ X ├─┤ U ├─┤ X ├─┤ H ├─\n",
            "      └───┘ └───┘ └───┘ └───┘ └───┘ └───┘ └───┘ └───┘ └───┘ └───┘ └───┘ └───┘ └───┘ └───┘ └───┘ └───┘ └───┘ \n",
            "T  : │  0  │  1  │  2  │  3  │  4  │  5  │  6  │  7  │  8  │  9  │ 10  │ 11  │ 12  │ 13  │ 14  │ 15  │ 16  │\n",
            "Status: COMPLETED\n",
            "measurement_counts: Counter({'100': 949, '000': 11, '110': 10, '011': 8, '111': 8, '010': 6, '001': 5, '101': 3})\n"
          ]
        },
        {
          "output_type": "display_data",
          "data": {
            "text/plain": [
              "<Figure size 640x480 with 1 Axes>"
            ],
            "image/png": "[encoded data removed]"
          },
          "metadata": {}
        }
      ],
      "source": [
        "# Select item to find\n",
        "item = \"100\"\n",
        "\n",
        "# get Grover circuit\n",
        "circ = grover(item, n_reps=2)\n",
        "\n",
        "# print circuit\n",
        "print(circ)\n",
        "\n",
        "# Measurement\n",
        "counts = get_result(circ)"
      ]
    },
    {
      "cell_type": "markdown",
      "metadata": {
        "id": "p4DewEy2F2Jh"
      },
      "source": [
        "__DISCUSSION__: We observed how repeated application of the Grover operator has amplified the occurrence of the desired bitstring, while further suppressing wrong answers to our search problem. We get the correct result with high probability.  "
      ]
    },
    {
      "cell_type": "markdown",
      "metadata": {
        "id": "cCusRz13F2Jh"
      },
      "source": [
        "## Device: IonQ <a name=\"ionq\"></a>\n",
        "\n",
        "Finally, we check whether this scheme works on quantum hardware, by submitting our circuit to the IonQ device. To achieve this check, we first need to express the ```CCZ``` gate in terms of the native gate set of IonQ. In doing so, we build a custom gate that can be registered as a subroutine and then used as if it were any other native quantum gate within our SDK."
      ]
    },
    {
      "cell_type": "code",
      "execution_count": null,
      "metadata": {
        "ExecuteTime": {
          "end_time": "2023-08-29T21:30:14.694017Z",
          "start_time": "2023-08-29T21:30:13.959600Z"
        },
        "id": "bulCGuu_F2Jh"
      },
      "outputs": [],
      "source": [
        "# Set up a QPU device\n",
        "device = AwsDevice(Devices.IonQ.Harmony)"
      ]
    },
    {
      "cell_type": "code",
      "execution_count": 15,
      "metadata": {
        "ExecuteTime": {
          "end_time": "2023-08-29T21:30:14.706515Z",
          "start_time": "2023-08-29T21:30:14.694354Z"
        },
        "colab": {
          "base_uri": "https://localhost:8080/"
        },
        "id": "K0_mMu6FF2Ji",
        "outputId": "2847bc1f-b5f9-4701-fb62-6783aef52813"
      },
      "outputs": [
        {
          "output_type": "stream",
          "name": "stdout",
          "text": [
            "Quantum Gates supported by StateVectorSimulator:\n",
            " ['ccnot', 'cnot', 'cphaseshift', 'cphaseshift00', 'cphaseshift01', 'cphaseshift10', 'cswap', 'cv', 'cy', 'cz', 'ecr', 'h', 'i', 'iswap', 'pswap', 'phaseshift', 'rx', 'ry', 'rz', 's', 'si', 'swap', 't', 'ti', 'unitary', 'v', 'vi', 'x', 'xx', 'xy', 'y', 'yy', 'z', 'zz']\n"
          ]
        }
      ],
      "source": [
        "# get device name\n",
        "device_name = device.name\n",
        "# show the properties of the device\n",
        "device_properties = device.properties\n",
        "# show supportedQuantumOperations (supported gates for a device)\n",
        "device_operations = device_properties.dict()['action']['braket.ir.jaqcd.program']['supportedOperations']\n",
        "# Note: This field also exists for other devices like the QPUs\n",
        "print('Quantum Gates supported by {}:\\n {}'.format(device_name, device_operations))"
      ]
    },
    {
      "cell_type": "markdown",
      "metadata": {
        "id": "s3Wd-oL-F2Ji"
      },
      "source": [
        "For the 𝑁=8 Grover demonstration with three qubits shown in Figgatt et al. (2017), we need to implement the Controlled-Controlled-Z ```CCZ``` gate that is not natively provided on the IonQ device. We will construct this gate using native gates only such as ```CNOT``` and ```T```. Apart from our implementation, other alternative options are available (see [1] and references therein)."
      ]
    },
    {
      "cell_type": "code",
      "execution_count": 23,
      "metadata": {
        "ExecuteTime": {
          "end_time": "2023-08-29T21:30:14.722040Z",
          "start_time": "2023-08-29T21:30:14.703202Z"
        },
        "id": "NRv26zo1F2Jj"
      },
      "outputs": [],
      "source": [
        "@circuit.subroutine(register=True)\n",
        "def CCNot(controls=[0, 1], target=2):\n",
        "    \"\"\"\n",
        "    build CCNOT from H, CNOT, T, Ti\n",
        "    \"\"\"\n",
        "    cQb1, cQb2 = controls\n",
        "    circ = Circuit().h(target).cnot(cQb2,target).ti(target).cnot(cQb1,target).t(target).cnot(cQb2,target).ti(target).cnot(cQb1,target).t(target).h(target).t(cQb2).cnot(cQb1,cQb2).t(cQb1).ti(cQb2).cnot(cQb1,cQb2)\n",
        "\n",
        "    return circ\n",
        "\n",
        "def CCZ_ionq(controls=[0, 1], target=2):\n",
        "    \"\"\"\n",
        "    build CCZ from H and CCNOT\n",
        "    \"\"\"\n",
        "    circ = Circuit().h(target).CCNot(controls, target).h(target)\n",
        "    return circ\n",
        "\n",
        "ccz_ionq = CCZ_ionq()"
      ]
    },
    {
      "cell_type": "markdown",
      "metadata": {
        "id": "QDitNljbF2Jj"
      },
      "source": [
        "Following are oracles defined based on target items:"
      ]
    },
    {
      "cell_type": "code",
      "execution_count": 24,
      "metadata": {
        "ExecuteTime": {
          "end_time": "2023-08-29T21:30:14.736070Z",
          "start_time": "2023-08-29T21:30:14.732653Z"
        },
        "id": "emFhqpjaF2Jk"
      },
      "outputs": [],
      "source": [
        "# Four possible items and their corresponding oracles\n",
        "oracle_ionq = {\"000\": Circuit().x([0,1,2]).add(ccz_ionq).x([0,1,2]),\n",
        "               \"001\": Circuit().x([0,1]).add(ccz_ionq).x([0,1]),\n",
        "               \"010\": Circuit().x([0,2]).add(ccz_ionq).x([0,2]),\n",
        "               \"011\": Circuit().x([0]).add(ccz_ionq).x([0]),\n",
        "               \"100\": Circuit().x([1,2]).add(ccz_ionq).x([1,2]),\n",
        "               \"101\": Circuit().x([1]).add(ccz_ionq).x([1]),\n",
        "               \"110\": Circuit().x([2]).add(ccz_ionq).x([2]),\n",
        "               \"111\": Circuit().add(ccz_ionq)\n",
        "          }"
      ]
    },
    {
      "cell_type": "code",
      "execution_count": 25,
      "metadata": {
        "ExecuteTime": {
          "end_time": "2023-08-29T21:30:14.742074Z",
          "start_time": "2023-08-29T21:30:14.739014Z"
        },
        "id": "IVryegOqF2Jk"
      },
      "outputs": [],
      "source": [
        "# Select some example item to find\n",
        "item = \"111\""
      ]
    },
    {
      "cell_type": "markdown",
      "metadata": {
        "id": "Oj6MTgTuF2Jk"
      },
      "source": [
        "Same as with the classical simulator, we first initialize the qubits by applying the Hadamard gate ```H``` to every qubit."
      ]
    },
    {
      "cell_type": "code",
      "execution_count": 26,
      "metadata": {
        "ExecuteTime": {
          "end_time": "2023-08-29T21:30:14.752785Z",
          "start_time": "2023-08-29T21:30:14.746502Z"
        },
        "colab": {
          "base_uri": "https://localhost:8080/"
        },
        "id": "Cjfer-oYF2Jq",
        "outputId": "77cccebc-2519-45be-cd36-8d877a97d4af"
      },
      "outputs": [
        {
          "output_type": "stream",
          "name": "stdout",
          "text": [
            "T  : │  0  │\n",
            "      ┌───┐ \n",
            "q0 : ─┤ H ├─\n",
            "      └───┘ \n",
            "      ┌───┐ \n",
            "q1 : ─┤ H ├─\n",
            "      └───┘ \n",
            "      ┌───┐ \n",
            "q2 : ─┤ H ├─\n",
            "      └───┘ \n",
            "T  : │  0  │\n"
          ]
        }
      ],
      "source": [
        "# Initialize with superposition\n",
        "circ = Circuit();\n",
        "circ.h(np.arange(3))\n",
        "print(circ)"
      ]
    },
    {
      "cell_type": "markdown",
      "metadata": {
        "id": "RL3ukm5SF2Jr"
      },
      "source": [
        "Next, we apply the phase oracle corresponding to our target item.\n"
      ]
    },
    {
      "cell_type": "code",
      "execution_count": 27,
      "metadata": {
        "ExecuteTime": {
          "end_time": "2023-08-29T21:30:14.764634Z",
          "start_time": "2023-08-29T21:30:14.756639Z"
        },
        "colab": {
          "base_uri": "https://localhost:8080/"
        },
        "id": "WNEPnrLEF2Jr",
        "outputId": "7be05cec-7e55-43f7-bb20-8caa79aab985"
      },
      "outputs": [
        {
          "output_type": "stream",
          "name": "stdout",
          "text": [
            "T  : │  0  │  1  │  2  │  3  │  4   │  5  │  6  │  7  │  8   │  9  │ 10  │  11  │ 12  │\n",
            "      ┌───┐                                                               ┌───┐        \n",
            "q0 : ─┤ H ├────────────────────────────●────────────────────────●─────●───┤ T ├────●───\n",
            "      └───┘                            │                        │     │   └───┘    │   \n",
            "      ┌───┐                            │               ┌───┐    │   ┌─┴─┐ ┌────┐ ┌─┴─┐ \n",
            "q1 : ─┤ H ├───────────────●────────────┼───────────●───┤ T ├────┼───┤ X ├─┤ Ti ├─┤ X ├─\n",
            "      └───┘               │            │           │   └───┘    │   └───┘ └────┘ └───┘ \n",
            "      ┌───┐ ┌───┐ ┌───┐ ┌─┴─┐ ┌────┐ ┌─┴─┐ ┌───┐ ┌─┴─┐ ┌────┐ ┌─┴─┐ ┌───┐ ┌───┐  ┌───┐ \n",
            "q2 : ─┤ H ├─┤ H ├─┤ H ├─┤ X ├─┤ Ti ├─┤ X ├─┤ T ├─┤ X ├─┤ Ti ├─┤ X ├─┤ T ├─┤ H ├──┤ H ├─\n",
            "      └───┘ └───┘ └───┘ └───┘ └────┘ └───┘ └───┘ └───┘ └────┘ └───┘ └───┘ └───┘  └───┘ \n",
            "T  : │  0  │  1  │  2  │  3  │  4   │  5  │  6  │  7  │  8   │  9  │ 10  │  11  │ 12  │\n"
          ]
        }
      ],
      "source": [
        "# Construct phase oracle\n",
        "circ.add_circuit(oracle_ionq[item])\n",
        "print(circ)"
      ]
    },
    {
      "cell_type": "markdown",
      "metadata": {
        "id": "fka_p8x1F2Jr"
      },
      "source": [
        "To complete the circuit, we define the diffusion operator, whose job is to magnify the amplitude difference created by the oracle."
      ]
    },
    {
      "cell_type": "code",
      "execution_count": 28,
      "metadata": {
        "ExecuteTime": {
          "end_time": "2023-08-29T21:30:14.798588Z",
          "start_time": "2023-08-29T21:30:14.770267Z"
        },
        "colab": {
          "base_uri": "https://localhost:8080/"
        },
        "id": "9mp4zeTMF2Js",
        "outputId": "f57b3bab-8405-41ba-f095-8b75609ec98f"
      },
      "outputs": [
        {
          "output_type": "stream",
          "name": "stdout",
          "text": [
            "T  : │  0  │  1  │  2  │  3  │  4   │  5  │  6  │  7  │  8   │  9  │ 10  │  11  │ 12  │ 13  │ 14  │ 15  │ 16  │ 17  │  18  │ 19  │ 20  │ 21  │  22  │ 23  │ 24  │  25  │ 26  │ 27  │ 28  │\n",
            "      ┌───┐                                                               ┌───┐        ┌───┐ ┌───┐                                                               ┌───┐        ┌───┐ ┌───┐ \n",
            "q0 : ─┤ H ├────────────────────────────●────────────────────────●─────●───┤ T ├────●───┤ H ├─┤ X ├────────────────────────────●────────────────────────●─────●───┤ T ├────●───┤ X ├─┤ H ├─\n",
            "      └───┘                            │                        │     │   └───┘    │   └───┘ └───┘                            │                        │     │   └───┘    │   └───┘ └───┘ \n",
            "      ┌───┐                            │               ┌───┐    │   ┌─┴─┐ ┌────┐ ┌─┴─┐ ┌───┐ ┌───┐                            │               ┌───┐    │   ┌─┴─┐ ┌────┐ ┌─┴─┐ ┌───┐ ┌───┐ \n",
            "q1 : ─┤ H ├───────────────●────────────┼───────────●───┤ T ├────┼───┤ X ├─┤ Ti ├─┤ X ├─┤ H ├─┤ X ├───────────────●────────────┼───────────●───┤ T ├────┼───┤ X ├─┤ Ti ├─┤ X ├─┤ X ├─┤ H ├─\n",
            "      └───┘               │            │           │   └───┘    │   └───┘ └────┘ └───┘ └───┘ └───┘               │            │           │   └───┘    │   └───┘ └────┘ └───┘ └───┘ └───┘ \n",
            "      ┌───┐ ┌───┐ ┌───┐ ┌─┴─┐ ┌────┐ ┌─┴─┐ ┌───┐ ┌─┴─┐ ┌────┐ ┌─┴─┐ ┌───┐ ┌───┐  ┌───┐ ┌───┐ ┌───┐ ┌───┐ ┌───┐ ┌─┴─┐ ┌────┐ ┌─┴─┐ ┌───┐ ┌─┴─┐ ┌────┐ ┌─┴─┐ ┌───┐ ┌───┐  ┌───┐ ┌───┐ ┌───┐ \n",
            "q2 : ─┤ H ├─┤ H ├─┤ H ├─┤ X ├─┤ Ti ├─┤ X ├─┤ T ├─┤ X ├─┤ Ti ├─┤ X ├─┤ T ├─┤ H ├──┤ H ├─┤ H ├─┤ X ├─┤ H ├─┤ H ├─┤ X ├─┤ Ti ├─┤ X ├─┤ T ├─┤ X ├─┤ Ti ├─┤ X ├─┤ T ├─┤ H ├──┤ H ├─┤ X ├─┤ H ├─\n",
            "      └───┘ └───┘ └───┘ └───┘ └────┘ └───┘ └───┘ └───┘ └────┘ └───┘ └───┘ └───┘  └───┘ └───┘ └───┘ └───┘ └───┘ └───┘ └────┘ └───┘ └───┘ └───┘ └────┘ └───┘ └───┘ └───┘  └───┘ └───┘ └───┘ \n",
            "T  : │  0  │  1  │  2  │  3  │  4   │  5  │  6  │  7  │  8   │  9  │ 10  │  11  │ 12  │ 13  │ 14  │ 15  │ 16  │ 17  │  18  │ 19  │ 20  │ 21  │  22  │ 23  │ 24  │  25  │ 26  │ 27  │ 28  │\n"
          ]
        }
      ],
      "source": [
        "# Amplification\n",
        "circ.h(np.arange(3))\n",
        "circ.add_circuit(oracle_ionq['000'])\n",
        "circ.h(np.arange(3))\n",
        "print(circ)"
      ]
    },
    {
      "cell_type": "markdown",
      "metadata": {
        "id": "rR9oSypPF2Js"
      },
      "source": [
        "This circuit could potentially be optimized, as detailed in Ref.[1], but we will use this version for simplicity.\n",
        "\n",
        "In the final step, we retrieve the probabilistic counts for our target item.\n",
        "To this end, we submit our circuit to the IonQ device, by setting the device as ```AwsDevice(Devices.IonQ.Harmony)```.\n",
        "\n",
        "This quantum task may not be executed immediately as it enters a queue for this machine.\n",
        "Should we need to interrupt our kernel to work on something else, we can always recover our results using the unique ID of this quantum task, as shown in the following lines."
      ]
    },
    {
      "cell_type": "code",
      "execution_count": null,
      "metadata": {
        "ExecuteTime": {
          "end_time": "2023-08-29T21:30:17.542439Z",
          "start_time": "2023-08-29T21:30:14.789051Z"
        },
        "id": "WUP6NOhQF2Js"
      },
      "outputs": [],
      "source": [
        "# set up device\n",
        "ionq = AwsDevice(Devices.IonQ.Harmony)\n",
        "\n",
        "# run circuit\n",
        "ionq_task = ionq.run(circ, shots=1000)\n",
        "\n",
        "# get id and status of submitted quantum task\n",
        "ionq_task_id = ionq_task.id\n",
        "ionq_status = ionq_task.state()\n",
        "# print('ID of task:', ionq_task_id)\n",
        "print('Status of task:', ionq_status)"
      ]
    },
    {
      "cell_type": "code",
      "execution_count": null,
      "metadata": {
        "ExecuteTime": {
          "end_time": "2023-08-29T21:30:17.695703Z",
          "start_time": "2023-08-29T21:30:17.542733Z"
        },
        "id": "6rCGL2PvF2Js"
      },
      "outputs": [],
      "source": [
        "# print status\n",
        "status = ionq_task.state()\n",
        "print('Status of (reconstructed) task:', status)"
      ]
    },
    {
      "cell_type": "code",
      "execution_count": null,
      "metadata": {
        "ExecuteTime": {
          "end_time": "2023-08-29T21:30:17.829375Z",
          "start_time": "2023-08-29T21:30:17.696647Z"
        },
        "id": "O6MayVKBF2Jt"
      },
      "outputs": [],
      "source": [
        "# print status\n",
        "status = ionq_task.state()\n",
        "print('Status of (reconstructed) quantum task:', status)"
      ]
    },
    {
      "cell_type": "code",
      "execution_count": null,
      "metadata": {
        "ExecuteTime": {
          "end_time": "2023-08-29T21:30:18.323743Z",
          "start_time": "2023-08-29T21:30:17.843212Z"
        },
        "id": "um6sZiYvF2Jt",
        "outputId": "73a90398-ed3a-4cff-efc4-096bfd32181c"
      },
      "outputs": [
        {
          "name": "stdout",
          "output_type": "stream",
          "text": [
            "Status of (reconstructed) quantum task: CREATED\n",
            "Sorry, your quantum task is still being processed and has not been finalized yet.\n"
          ]
        }
      ],
      "source": [
        "# recover quantum task\n",
        "task_load = AwsQuantumTask(arn=ionq_task_id)\n",
        "\n",
        "# print status\n",
        "status = task_load.state()\n",
        "print('Status of (reconstructed) quantum task:', status)\n",
        "\n",
        "# wait for hybrid job to complete\n",
        "# terminal_states = ['COMPLETED', 'FAILED', 'CANCELLED']\n",
        "if status == 'COMPLETED':\n",
        "    # get results\n",
        "    results = task_load.result()\n",
        "\n",
        "    # get all metadata of submitted quantum task\n",
        "    metadata = task_load.metadata()\n",
        "    # example for metadata\n",
        "    shots = metadata['shots']\n",
        "    machine = metadata['deviceArn']\n",
        "    # print example metadata\n",
        "    print(\"{} shots taken on machine {}.\".format(shots, machine))\n",
        "\n",
        "    # get measurement counts\n",
        "    counts = results.measurement_counts\n",
        "    print('Measurement counts:', counts)\n",
        "\n",
        "    # plot results: see effects of noise\n",
        "    plt.bar(counts.keys(), counts.values());\n",
        "    plt.xlabel('bitstrings');\n",
        "    plt.ylabel('counts');\n",
        "    plt.tight_layout();\n",
        "    plt.savefig('ionq.png', dpi=700);\n",
        "\n",
        "elif status in ['FAILED', 'CANCELLED']:\n",
        "    # print terminal message\n",
        "    print('Your quantum task is in terminal status, but has not completed.')\n",
        "\n",
        "else:\n",
        "    # print current status\n",
        "    print('Sorry, your quantum task is still being processed and has not been finalized yet.')"
      ]
    },
    {
      "cell_type": "markdown",
      "metadata": {
        "id": "2vN1XPsFF2Jt"
      },
      "source": [
        "The output looks relatively noisy due to decoherence and gate errors in this relatively long gate sequence. However, we can still observe a dominant peak for the target item.\n",
        "\n",
        "In summary, we have shown how to implement Grover's search algorithm on a classical simulator, as well as on the IonQ device, using simple modular building blocks. We have also demonstrated how to build custom gates outside of the basic gate set provided by the SDK, and how to register these as subroutines that can be used as if they were any other pre-defined quantum gate."
      ]
    },
    {
      "cell_type": "code",
      "execution_count": 33,
      "metadata": {
        "ExecuteTime": {
          "end_time": "2023-08-29T21:30:18.432730Z",
          "start_time": "2023-08-29T21:30:18.322296Z"
        },
        "colab": {
          "base_uri": "https://localhost:8080/"
        },
        "id": "5Dp4iGbzF2Ju",
        "outputId": "8d0ff6c8-0aad-4451-de9c-0052f8ec36cd"
      },
      "outputs": [
        {
          "output_type": "stream",
          "name": "stdout",
          "text": [
            "Quantum Task Summary\n",
            "{}\n",
            "Note: Charges shown are estimates based on your Amazon Braket simulator and quantum processing unit (QPU) task usage. Estimated charges shown may differ from your actual charges. Estimated charges do not factor in any discounts or credits, and you may experience additional charges based on your use of other services such as Amazon Elastic Compute Cloud (Amazon EC2).\n",
            "Estimated cost to run this example: 0.00 USD\n"
          ]
        }
      ],
      "source": [
        "print(\"Quantum Task Summary\")\n",
        "print(t.quantum_tasks_statistics())\n",
        "print('Note: Charges shown are estimates based on your Amazon Braket simulator and quantum processing unit (QPU) task usage. Estimated charges shown may differ from your actual charges. Estimated charges do not factor in any discounts or credits, and you may experience additional charges based on your use of other services such as Amazon Elastic Compute Cloud (Amazon EC2).')\n",
        "print(f\"Estimated cost to run this example: {t.qpu_tasks_cost() + t.simulator_tasks_cost():.2f} USD\")"
      ]
    }
  ],
  "metadata": {
    "kernelspec": {
      "display_name": "conda_braket",
      "language": "python",
      "name": "conda_braket"
    },
    "language_info": {
      "codemirror_mode": {
        "name": "ipython",
        "version": 3
      },
      "file_extension": ".py",
      "mimetype": "text/x-python",
      "name": "python",
      "nbconvert_exporter": "python",
      "pygments_lexer": "ipython3",
      "version": "3.8.10"
    },
    "vscode": {
      "interpreter": {
        "hash": "590fab68195cf107911461461f81d5c472d3d6127f579badfcfad30f03e5cab2"
      }
    },
    "colab": {
      "provenance": []
    }
  },
  "nbformat": 4,
  "nbformat_minor": 0
}